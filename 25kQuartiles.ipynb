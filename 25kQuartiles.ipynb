{
  "metadata": {
    "kernelspec": {
      "name": "xpython",
      "display_name": "Python 3.13 (XPython)",
      "language": "python"
    },
    "language_info": {
      "file_extension": ".py",
      "mimetype": "text/x-python",
      "name": "python",
      "version": "3.13.1"
    }
  },
  "nbformat_minor": 5,
  "nbformat": 4,
  "cells": [
    {
      "id": "d401fbd1-ccfa-4009-a36f-cd05199cc6a6",
      "cell_type": "code",
      "source": "import numpy as np\nimport matplotlib.pyplot as plt\n\nheightsWeights = np.loadtxt(\"SOCR-HeightWeight.csv\", delimiter=\",\", skiprows=1, usecols=(1, 2))\n\nheights = heightsWeights[:, 0]\nweights = heightsWeights[:, 1]\nheights.sort()\n\nabove = []\nbelow = []\ncount = 0\n\nQ1 = np.median(heights[:12500])\nQ2 = np.median(heights)\nQ3 = np.median(heights[12500:])\n\nIQR = Q3 - Q1\n\nminimum = Q1 - 1.5 * IQR\nmaximum = Q3 + 1.5 * IQR\n\nfor i in range(len(heights)):\n    if heights[i] < minium:\n        below.append(heights[i])\n        count += 1\n    elif heights[i] > maximum:\n        above.append(heights[i])\n        count += 1\n\nfig = plt.figure(figsize =(7, 7))\nplt.boxplot(heights, vert=False)\n\nQ1 = np.median(heights[:12500])\nQ3 = np.median(heights[12500:])\n\nIQR = Q3 - Q1\n\n\n\nprint(f'Quartile 1 is: {Q1}')\nprint(f'Quartile 2 is: {Q2}')\nprint(f'Quartile 3 is: {Q3}')\n\nprint(f'The Interquartile range is: {IQR}')\n\nprint(f'The maximum is: {maximum}')\nprint(f'The minimum is: {minimum}')\n\nplt.show()\nprint(f'There are {count} outliers.')\nprint(\"The outliers above the graph:\")\nfor x in range(len(above)):\n    print(str(above[x]), end = \",\")\nprint()\nprint()\nprint()\nprint()\nprint(\"The outliers below the graph:\")\nfor y in range(len(below)):\n    print(str(below[y]), end = \",\")\n\n",
      "metadata": {
        "trusted": true
      },
      "outputs": [],
      "execution_count": null
    }
  ]
}